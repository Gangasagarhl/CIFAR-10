{
  "nbformat": 4,
  "nbformat_minor": 0,
  "metadata": {
    "accelerator": "GPU",
    "colab": {
      "name": "CIFAR.ipynb",
      "provenance": []
    },
    "kernelspec": {
      "display_name": "Python 3",
      "language": "python",
      "name": "python3"
    },
    "language_info": {
      "codemirror_mode": {
        "name": "ipython",
        "version": 3
      },
      "file_extension": ".py",
      "mimetype": "text/x-python",
      "name": "python",
      "nbconvert_exporter": "python",
      "pygments_lexer": "ipython3",
      "version": "3.7.6"
    }
  },
  "cells": [
    {
      "cell_type": "code",
      "metadata": {
        "id": "jfHcBmO0MmfF"
      },
      "source": [
        "# importing libraries needed\n",
        "import os\n",
        "import numpy as np\n",
        "import pandas as pd\n",
        "from tensorflow.keras.datasets import cifar10\n",
        "from tensorflow.keras.models import Sequential\n",
        "from tensorflow.keras.layers import Dense,Conv2D,Dropout,Flatten,Activation,GlobalAveragePooling2D\n",
        "from tensorflow.keras.callbacks import EarlyStopping,TensorBoard\n",
        "import matplotlib.pyplot as plt\n",
        "from tensorflow.keras.utils import to_categorical"
      ],
      "execution_count": 30,
      "outputs": []
    },
    {
      "cell_type": "code",
      "metadata": {
        "id": "DxeAmbunMmfU"
      },
      "source": [
        "# mnist data loading\n",
        "(x_train,y_train),(x_test,y_test) = cifar10.load_data()\n"
      ],
      "execution_count": 31,
      "outputs": []
    },
    {
      "cell_type": "code",
      "metadata": {
        "id": "FFwY3MT1Mmfg",
        "outputId": "78117c3a-b02c-45d4-cbb2-a598fa49078b",
        "colab": {
          "base_uri": "https://localhost:8080/"
        }
      },
      "source": [
        "# printing shape of the xtrain and y_train\n",
        "x_train.shape,y_train.shape,x_test.shape,y_test.shape"
      ],
      "execution_count": 32,
      "outputs": [
        {
          "output_type": "execute_result",
          "data": {
            "text/plain": [
              "((50000, 32, 32, 3), (50000, 1), (10000, 32, 32, 3), (10000, 1))"
            ]
          },
          "metadata": {
            "tags": []
          },
          "execution_count": 32
        }
      ]
    },
    {
      "cell_type": "code",
      "metadata": {
        "id": "8aXpd4eoMmfr"
      },
      "source": [
        "dictionary={0 : 'airplane', 1:'automobile' ,2 : 'bird',  3:'cat',\n",
        " 4:'deer',\n",
        " 5:'dog ',\n",
        " 6: 'frog',\n",
        " 7: 'horse',\n",
        " 8:'ship',\n",
        " 9:'truck'}"
      ],
      "execution_count": 33,
      "outputs": []
    },
    {
      "cell_type": "code",
      "metadata": {
        "id": "tMq0urcIMmfy"
      },
      "source": [
        ""
      ],
      "execution_count": 33,
      "outputs": []
    },
    {
      "cell_type": "code",
      "metadata": {
        "id": "mGF85PCfMmf4"
      },
      "source": [
        ""
      ],
      "execution_count": 33,
      "outputs": []
    },
    {
      "cell_type": "code",
      "metadata": {
        "id": "TasYmElVMmf9"
      },
      "source": [
        "# scaling x_train and x_test data\n",
        "x_train = x_train/255 \n",
        "x_test  = x_test /255"
      ],
      "execution_count": 34,
      "outputs": []
    },
    {
      "cell_type": "code",
      "metadata": {
        "id": "0gzKYpANMmgC",
        "outputId": "d53bce92-2284-4fb0-a472-11f0d22f430e",
        "colab": {
          "base_uri": "https://localhost:8080/"
        }
      },
      "source": [
        "y_train = y_train.reshape(-1,)\n",
        "y_test = y_test.reshape(-1,)\n",
        "y_train.shape,y_test.shape"
      ],
      "execution_count": 35,
      "outputs": [
        {
          "output_type": "execute_result",
          "data": {
            "text/plain": [
              "((50000,), (10000,))"
            ]
          },
          "metadata": {
            "tags": []
          },
          "execution_count": 35
        }
      ]
    },
    {
      "cell_type": "code",
      "metadata": {
        "id": "jjZAMHpfM_-A",
        "outputId": "b7594e42-62cd-4365-9596-eda2d30ef04c",
        "colab": {
          "base_uri": "https://localhost:8080/",
          "height": 300
        }
      },
      "source": [
        "print(\"The value expected to be->\",dictionary[y_train[1]])\n",
        "plt.imshow(x_train[1])"
      ],
      "execution_count": 36,
      "outputs": [
        {
          "output_type": "stream",
          "text": [
            "The value expected to be-> truck\n"
          ],
          "name": "stdout"
        },
        {
          "output_type": "execute_result",
          "data": {
            "text/plain": [
              "<matplotlib.image.AxesImage at 0x7fde2024b588>"
            ]
          },
          "metadata": {
            "tags": []
          },
          "execution_count": 36
        },
        {
          "output_type": "display_data",
          "data": {
            "image/png": "[encoded data removed]",
            "text/plain": [
              "<Figure size 432x288 with 1 Axes>"
            ]
          },
          "metadata": {
            "tags": [],
            "needs_background": "light"
          }
        }
      ]
    },
    {
      "cell_type": "markdown",
      "metadata": {
        "id": "UM31pGfvMmgG"
      },
      "source": [
        "airplane : 0\n",
        "automobile : 1\n",
        "bird : 2\n",
        "cat : 3\n",
        "deer : 4\n",
        "dog : 5\n",
        "frog : 6\n",
        "horse : 7\n",
        "ship : 8\n",
        "truck : 9"
      ]
    },
    {
      "cell_type": "code",
      "metadata": {
        "id": "ZfpwC2yYMmgH",
        "outputId": "2c5f4b5b-66c2-4462-ed44-e7a4c844e1b7",
        "colab": {
          "base_uri": "https://localhost:8080/"
        }
      },
      "source": [
        "\n",
        "print(\"Y_train unique values: \",sorted(pd.Series(y_train).unique()),\n",
        "      \"\\nY_train Number Unique values:\",len(sorted(pd.Series(y_train).unique()))\n",
        "     )\n",
        "\n",
        "print(\"\\n\\nY_test unique values: \",sorted(pd.Series(y_test).unique()),\n",
        "      \"\\nY_test Number Unique values:\",len(sorted(pd.Series(y_test).unique()))\n",
        "     )"
      ],
      "execution_count": 37,
      "outputs": [
        {
          "output_type": "stream",
          "text": [
            "Y_train unique values:  [0, 1, 2, 3, 4, 5, 6, 7, 8, 9] \n",
            "Y_train Number Unique values: 10\n",
            "\n",
            "\n",
            "Y_test unique values:  [0, 1, 2, 3, 4, 5, 6, 7, 8, 9] \n",
            "Y_test Number Unique values: 10\n"
          ],
          "name": "stdout"
        }
      ]
    },
    {
      "cell_type": "code",
      "metadata": {
        "id": "jVmRRZpMMmgK"
      },
      "source": [
        "y_train_cat = to_categorical(y_train,num_classes=10)\n",
        "y_test_cat = to_categorical(y_test,num_classes=10)\n"
      ],
      "execution_count": 38,
      "outputs": []
    },
    {
      "cell_type": "code",
      "metadata": {
        "id": "45sTDqrEMmgN",
        "outputId": "2d957d56-4b8d-4501-bdd6-e14a45ffa01f",
        "colab": {
          "base_uri": "https://localhost:8080/"
        }
      },
      "source": [
        "#getting maximum and minimum values of x_train and x_test respectivley\n",
        "x_train.max(),x_test.max(),x_train.min(),x_test.min()"
      ],
      "execution_count": 39,
      "outputs": [
        {
          "output_type": "execute_result",
          "data": {
            "text/plain": [
              "(1.0, 1.0, 0.0, 0.0)"
            ]
          },
          "metadata": {
            "tags": []
          },
          "execution_count": 39
        }
      ]
    },
    {
      "cell_type": "code",
      "metadata": {
        "id": "xpAmHaIQMmgQ",
        "outputId": "6197deb3-33de-4035-a0f7-002bb9469dcf",
        "colab": {
          "base_uri": "https://localhost:8080/"
        }
      },
      "source": [
        "# printing shape of the xtrain and y_train\n",
        "x_train.shape,y_train.shape,x_test.shape,y_test.shape"
      ],
      "execution_count": 40,
      "outputs": [
        {
          "output_type": "execute_result",
          "data": {
            "text/plain": [
              "((50000, 32, 32, 3), (50000,), (10000, 32, 32, 3), (10000,))"
            ]
          },
          "metadata": {
            "tags": []
          },
          "execution_count": 40
        }
      ]
    },
    {
      "cell_type": "code",
      "metadata": {
        "id": "4jnRlo-_MmgU"
      },
      "source": [
        "x_train = x_train.reshape(-1,32,32,3)\n",
        "x_test = x_test.reshape(-1,32,32,3)"
      ],
      "execution_count": 41,
      "outputs": []
    },
    {
      "cell_type": "code",
      "metadata": {
        "id": "5AH68LUSMmgX",
        "outputId": "741fec9d-eb97-426a-8898-c04ac479b0df",
        "colab": {
          "base_uri": "https://localhost:8080/"
        }
      },
      "source": [
        "print(y_train[1])\n",
        "y_train_cat"
      ],
      "execution_count": 42,
      "outputs": [
        {
          "output_type": "stream",
          "text": [
            "9\n"
          ],
          "name": "stdout"
        },
        {
          "output_type": "execute_result",
          "data": {
            "text/plain": [
              "array([[0., 0., 0., ..., 0., 0., 0.],\n",
              "       [0., 0., 0., ..., 0., 0., 1.],\n",
              "       [0., 0., 0., ..., 0., 0., 1.],\n",
              "       ...,\n",
              "       [0., 0., 0., ..., 0., 0., 1.],\n",
              "       [0., 1., 0., ..., 0., 0., 0.],\n",
              "       [0., 1., 0., ..., 0., 0., 0.]], dtype=float32)"
            ]
          },
          "metadata": {
            "tags": []
          },
          "execution_count": 42
        }
      ]
    },
    {
      "cell_type": "code",
      "metadata": {
        "id": "0ekzobVmMmgb"
      },
      "source": [
        "#building a sequential model\n",
        "model = Sequential()\n",
        "    \n",
        "model.add(Conv2D(96, (3, 3), activation='relu', padding = 'same', input_shape=(32,32,3)))    \n",
        "model.add(Dropout(0.2))\n",
        "    \n",
        "model.add(Conv2D(96, (3, 3), activation='relu', padding = 'same'))  \n",
        "model.add(Conv2D(96, (3, 3), activation='relu', padding = 'same', strides = 2))    \n",
        "model.add(Dropout(0.5))\n",
        "    \n",
        "model.add(Conv2D(192, (3, 3), activation='relu', padding = 'same'))    \n",
        "model.add(Conv2D(192, (3, 3), activation='relu', padding = 'same'))\n",
        "model.add(Conv2D(192, (3, 3), activation='relu', padding = 'same', strides = 2))    \n",
        "model.add(Dropout(0.5))    \n",
        "    \n",
        "model.add(Conv2D(192, (3, 3), padding = 'same'))\n",
        "model.add(Activation('relu'))\n",
        "model.add(Conv2D(192, (1, 1),padding='valid'))\n",
        "model.add(Activation('relu'))\n",
        "model.add(Conv2D(10, (1, 1), padding='valid'))\n",
        "\n",
        "model.add(GlobalAveragePooling2D())\n",
        "    \n",
        "model.add(Activation('softmax'))\n",
        "\n",
        "\n",
        "model.compile(optimizer='adam',loss='categorical_crossentropy',metrics=['accuracy'])\n",
        "\n",
        "es =  EarlyStopping(monitor='val_loss', patience=5, mode='min')"
      ],
      "execution_count": 43,
      "outputs": []
    },
    {
      "cell_type": "code",
      "metadata": {
        "id": "DbFx-g0lMmgd",
        "outputId": "09070d50-dc50-4bb9-f588-940d9e1d645a",
        "colab": {
          "base_uri": "https://localhost:8080/"
        }
      },
      "source": [
        "model.summary()"
      ],
      "execution_count": 44,
      "outputs": [
        {
          "output_type": "stream",
          "text": [
            "Model: \"sequential_3\"\n",
            "_________________________________________________________________\n",
            "Layer (type)                 Output Shape              Param #   \n",
            "=================================================================\n",
            "conv2d_17 (Conv2D)           (None, 32, 32, 96)        2688      \n",
            "_________________________________________________________________\n",
            "dropout_6 (Dropout)          (None, 32, 32, 96)        0         \n",
            "_________________________________________________________________\n",
            "conv2d_18 (Conv2D)           (None, 32, 32, 96)        83040     \n",
            "_________________________________________________________________\n",
            "conv2d_19 (Conv2D)           (None, 16, 16, 96)        83040     \n",
            "_________________________________________________________________\n",
            "dropout_7 (Dropout)          (None, 16, 16, 96)        0         \n",
            "_________________________________________________________________\n",
            "conv2d_20 (Conv2D)           (None, 16, 16, 192)       166080    \n",
            "_________________________________________________________________\n",
            "conv2d_21 (Conv2D)           (None, 16, 16, 192)       331968    \n",
            "_________________________________________________________________\n",
            "conv2d_22 (Conv2D)           (None, 8, 8, 192)         331968    \n",
            "_________________________________________________________________\n",
            "dropout_8 (Dropout)          (None, 8, 8, 192)         0         \n",
            "_________________________________________________________________\n",
            "conv2d_23 (Conv2D)           (None, 8, 8, 192)         331968    \n",
            "_________________________________________________________________\n",
            "activation_2 (Activation)    (None, 8, 8, 192)         0         \n",
            "_________________________________________________________________\n",
            "conv2d_24 (Conv2D)           (None, 8, 8, 192)         37056     \n",
            "_________________________________________________________________\n",
            "activation_3 (Activation)    (None, 8, 8, 192)         0         \n",
            "_________________________________________________________________\n",
            "conv2d_25 (Conv2D)           (None, 8, 8, 10)          1930      \n",
            "_________________________________________________________________\n",
            "global_average_pooling2d (Gl (None, 10)                0         \n",
            "_________________________________________________________________\n",
            "activation_4 (Activation)    (None, 10)                0         \n",
            "=================================================================\n",
            "Total params: 1,369,738\n",
            "Trainable params: 1,369,738\n",
            "Non-trainable params: 0\n",
            "_________________________________________________________________\n"
          ],
          "name": "stdout"
        }
      ]
    },
    {
      "cell_type": "code",
      "metadata": {
        "id": "Xub2YD6HMmgj",
        "outputId": "cc366215-a1ce-433c-a1b8-2943c107a5df",
        "colab": {
          "base_uri": "https://localhost:8080/"
        }
      },
      "source": [
        "model.fit(x=x_train,y=y_train_cat,epochs=300,callbacks=[es],validation_data=(x_test,y_test_cat),batch_size=(64))"
      ],
      "execution_count": 45,
      "outputs": [
        {
          "output_type": "stream",
          "text": [
            "Epoch 1/300\n",
            "782/782 [==============================] - 29s 37ms/step - loss: 1.8440 - accuracy: 0.2948 - val_loss: 1.4838 - val_accuracy: 0.4501\n",
            "Epoch 2/300\n",
            "782/782 [==============================] - 28s 36ms/step - loss: 1.4093 - accuracy: 0.4811 - val_loss: 1.2587 - val_accuracy: 0.5426\n",
            "Epoch 3/300\n",
            "782/782 [==============================] - 28s 36ms/step - loss: 1.1766 - accuracy: 0.5738 - val_loss: 1.0813 - val_accuracy: 0.6055\n",
            "Epoch 4/300\n",
            "782/782 [==============================] - 28s 36ms/step - loss: 1.0106 - accuracy: 0.6386 - val_loss: 0.9257 - val_accuracy: 0.6758\n",
            "Epoch 5/300\n",
            "782/782 [==============================] - 28s 36ms/step - loss: 0.8978 - accuracy: 0.6828 - val_loss: 0.9137 - val_accuracy: 0.6819\n",
            "Epoch 6/300\n",
            "782/782 [==============================] - 28s 36ms/step - loss: 0.8184 - accuracy: 0.7124 - val_loss: 0.7324 - val_accuracy: 0.7427\n",
            "Epoch 7/300\n",
            "782/782 [==============================] - 28s 36ms/step - loss: 0.7556 - accuracy: 0.7333 - val_loss: 0.7166 - val_accuracy: 0.7539\n",
            "Epoch 8/300\n",
            "782/782 [==============================] - 28s 36ms/step - loss: 0.7132 - accuracy: 0.7481 - val_loss: 0.6816 - val_accuracy: 0.7680\n",
            "Epoch 9/300\n",
            "782/782 [==============================] - 28s 36ms/step - loss: 0.6692 - accuracy: 0.7648 - val_loss: 0.6435 - val_accuracy: 0.7830\n",
            "Epoch 10/300\n",
            "782/782 [==============================] - 28s 36ms/step - loss: 0.6311 - accuracy: 0.7807 - val_loss: 0.6306 - val_accuracy: 0.7846\n",
            "Epoch 11/300\n",
            "782/782 [==============================] - 28s 36ms/step - loss: 0.6083 - accuracy: 0.7874 - val_loss: 0.6237 - val_accuracy: 0.7839\n",
            "Epoch 12/300\n",
            "782/782 [==============================] - 28s 36ms/step - loss: 0.5820 - accuracy: 0.7977 - val_loss: 0.5736 - val_accuracy: 0.8039\n",
            "Epoch 13/300\n",
            "782/782 [==============================] - 28s 36ms/step - loss: 0.5570 - accuracy: 0.8042 - val_loss: 0.5959 - val_accuracy: 0.7990\n",
            "Epoch 14/300\n",
            "782/782 [==============================] - 28s 36ms/step - loss: 0.5304 - accuracy: 0.8129 - val_loss: 0.5823 - val_accuracy: 0.8049\n",
            "Epoch 15/300\n",
            "782/782 [==============================] - 28s 36ms/step - loss: 0.5141 - accuracy: 0.8184 - val_loss: 0.6030 - val_accuracy: 0.7978\n",
            "Epoch 16/300\n",
            "782/782 [==============================] - 28s 36ms/step - loss: 0.5029 - accuracy: 0.8235 - val_loss: 0.6007 - val_accuracy: 0.8036\n",
            "Epoch 17/300\n",
            "782/782 [==============================] - 28s 36ms/step - loss: 0.4794 - accuracy: 0.8310 - val_loss: 0.5645 - val_accuracy: 0.8143\n",
            "Epoch 18/300\n",
            "782/782 [==============================] - 28s 36ms/step - loss: 0.4720 - accuracy: 0.8346 - val_loss: 0.5927 - val_accuracy: 0.8028\n",
            "Epoch 19/300\n",
            "782/782 [==============================] - 28s 36ms/step - loss: 0.4566 - accuracy: 0.8392 - val_loss: 0.5457 - val_accuracy: 0.8188\n",
            "Epoch 20/300\n",
            "782/782 [==============================] - 28s 36ms/step - loss: 0.4402 - accuracy: 0.8449 - val_loss: 0.5662 - val_accuracy: 0.8122\n",
            "Epoch 21/300\n",
            "782/782 [==============================] - 28s 36ms/step - loss: 0.4307 - accuracy: 0.8493 - val_loss: 0.5869 - val_accuracy: 0.8101\n",
            "Epoch 22/300\n",
            "782/782 [==============================] - 28s 36ms/step - loss: 0.4261 - accuracy: 0.8506 - val_loss: 0.5677 - val_accuracy: 0.8181\n",
            "Epoch 23/300\n",
            "782/782 [==============================] - 28s 36ms/step - loss: 0.4085 - accuracy: 0.8564 - val_loss: 0.5739 - val_accuracy: 0.8177\n",
            "Epoch 24/300\n",
            "782/782 [==============================] - 28s 36ms/step - loss: 0.4000 - accuracy: 0.8583 - val_loss: 0.5713 - val_accuracy: 0.8214\n"
          ],
          "name": "stdout"
        },
        {
          "output_type": "execute_result",
          "data": {
            "text/plain": [
              "<tensorflow.python.keras.callbacks.History at 0x7fde20141828>"
            ]
          },
          "metadata": {
            "tags": []
          },
          "execution_count": 45
        }
      ]
    },
    {
      "cell_type": "code",
      "metadata": {
        "id": "Idc-sUM-Mmgm",
        "outputId": "8ab63869-2003-453a-c3ce-e8e1f230dc1c",
        "colab": {
          "base_uri": "https://localhost:8080/"
        }
      },
      "source": [
        "history = pd.DataFrame(model.history.history)\n",
        "print(history)"
      ],
      "execution_count": 58,
      "outputs": [
        {
          "output_type": "stream",
          "text": [
            "Empty DataFrame\n",
            "Columns: []\n",
            "Index: []\n"
          ],
          "name": "stdout"
        }
      ]
    },
    {
      "cell_type": "code",
      "metadata": {
        "id": "9l8abPJrMmgv",
        "outputId": "d60d73e1-2755-4881-d033-7ac1a4cf00fc",
        "colab": {
          "base_uri": "https://localhost:8080/"
        }
      },
      "source": [
        "model.evaluate(x_test,y_test_cat)"
      ],
      "execution_count": 60,
      "outputs": [
        {
          "output_type": "stream",
          "text": [
            "313/313 [==============================] - 2s 6ms/step - loss: 0.5713 - accuracy: 0.8214\n"
          ],
          "name": "stdout"
        },
        {
          "output_type": "execute_result",
          "data": {
            "text/plain": [
              "[0.571265459060669, 0.821399986743927]"
            ]
          },
          "metadata": {
            "tags": []
          },
          "execution_count": 60
        }
      ]
    },
    {
      "cell_type": "code",
      "metadata": {
        "id": "9xFygjdKMmgy",
        "outputId": "ef7945fd-2cf2-4e26-dbd7-e9c0301702e4",
        "colab": {
          "base_uri": "https://localhost:8080/"
        }
      },
      "source": [
        "model.evaluate(x_train,y_train_cat)"
      ],
      "execution_count": 61,
      "outputs": [
        {
          "output_type": "stream",
          "text": [
            "1563/1563 [==============================] - 10s 6ms/step - loss: 0.2457 - accuracy: 0.9140\n"
          ],
          "name": "stdout"
        },
        {
          "output_type": "execute_result",
          "data": {
            "text/plain": [
              "[0.24565093219280243, 0.9139999747276306]"
            ]
          },
          "metadata": {
            "tags": []
          },
          "execution_count": 61
        }
      ]
    },
    {
      "cell_type": "code",
      "metadata": {
        "id": "VWllDJwZMmg1"
      },
      "source": [
        "predictions = model.predict_classes(x_test)"
      ],
      "execution_count": 62,
      "outputs": []
    },
    {
      "cell_type": "code",
      "metadata": {
        "id": "bJcfPjuoMmg9",
        "outputId": "f90dced7-63ad-43c5-e657-e8f990bbefd2",
        "colab": {
          "base_uri": "https://localhost:8080/"
        }
      },
      "source": [
        "from sklearn.metrics import classification_report\n",
        "\n",
        "print(classification_report(y_test,predictions))"
      ],
      "execution_count": 65,
      "outputs": [
        {
          "output_type": "stream",
          "text": [
            "              precision    recall  f1-score   support\n",
            "\n",
            "           0       0.87      0.84      0.85      1000\n",
            "           1       0.91      0.92      0.92      1000\n",
            "           2       0.81      0.68      0.74      1000\n",
            "           3       0.66      0.69      0.67      1000\n",
            "           4       0.72      0.88      0.79      1000\n",
            "           5       0.68      0.81      0.74      1000\n",
            "           6       0.92      0.78      0.85      1000\n",
            "           7       0.90      0.84      0.87      1000\n",
            "           8       0.90      0.92      0.91      1000\n",
            "           9       0.92      0.85      0.88      1000\n",
            "\n",
            "    accuracy                           0.82     10000\n",
            "   macro avg       0.83      0.82      0.82     10000\n",
            "weighted avg       0.83      0.82      0.82     10000\n",
            "\n"
          ],
          "name": "stdout"
        }
      ]
    },
    {
      "cell_type": "code",
      "metadata": {
        "id": "B0_vXXjLtI1m",
        "outputId": "1de70627-65b0-4e85-b3f9-15df1ece0959",
        "colab": {
          "base_uri": "https://localhost:8080/"
        }
      },
      "source": [
        "from sklearn.metrics import confusion_matrix\n",
        "cm=confusion_matrix(y_test,predictions)\n",
        "cm"
      ],
      "execution_count": 66,
      "outputs": [
        {
          "output_type": "execute_result",
          "data": {
            "text/plain": [
              "array([[843,   5,  34,  25,  14,   5,   6,  10,  45,  13],\n",
              "       [  7, 920,   2,   5,   4,   6,   2,   0,  14,  40],\n",
              "       [ 41,   1, 680,  58, 103,  68,  24,  14,   8,   3],\n",
              "       [ 15,   0,  32, 688,  51, 171,  22,  15,   3,   3],\n",
              "       [  5,   0,  22,  29, 881,  32,   5,  25,   1,   0],\n",
              "       [  3,   0,  15, 110,  37, 810,   4,  19,   2,   0],\n",
              "       [  4,   1,  31,  60,  85,  27, 783,   4,   3,   2],\n",
              "       [  7,   0,  14,  42,  36,  56,   1, 843,   0,   1],\n",
              "       [ 31,  11,   4,  11,   6,   6,   3,   1, 918,   9],\n",
              "       [ 16,  68,   2,  20,   7,   8,   3,   6,  22, 848]])"
            ]
          },
          "metadata": {
            "tags": []
          },
          "execution_count": 66
        }
      ]
    },
    {
      "cell_type": "code",
      "metadata": {
        "id": "YYtCH1uptXU5",
        "outputId": "bd37bad5-bf6b-4932-c0c0-d889ed6a17ef",
        "colab": {
          "base_uri": "https://localhost:8080/",
          "height": 391
        }
      },
      "source": [
        "import seaborn as sns\n",
        "plt.figure(figsize=(12,6))\n",
        "sns.heatmap(cm,annot=True)"
      ],
      "execution_count": 67,
      "outputs": [
        {
          "output_type": "execute_result",
          "data": {
            "text/plain": [
              "<matplotlib.axes._subplots.AxesSubplot at 0x7fdd71738ba8>"
            ]
          },
          "metadata": {
            "tags": []
          },
          "execution_count": 67
        },
        {
          "output_type": "display_data",
          "data": {
            "image/png": "[encoded data removed]",
            "text/plain": [
              "<Figure size 864x432 with 2 Axes>"
            ]
          },
          "metadata": {
            "tags": [],
            "needs_background": "light"
          }
        }
      ]
    },
    {
      "cell_type": "code",
      "metadata": {
        "id": "mb-LmKPObd9F"
      },
      "source": [
        "###  Testing through images"
      ],
      "execution_count": null,
      "outputs": []
    },
    {
      "cell_type": "code",
      "metadata": {
        "id": "_12Xx-hHbwhD"
      },
      "source": [
        "def testing(num): \n",
        "  img=x_train[num].reshape(-1,32,32,3)\n",
        "  prediction = model.predict_classes(img)\n",
        "  print(\"Prediction: \", dictionary[prediction[0]])\n",
        "  print(\"Original: \",dictionary[y_train[num]])\n",
        "  \n",
        "  plt.imshow(x_train[num])"
      ],
      "execution_count": 68,
      "outputs": []
    },
    {
      "cell_type": "code",
      "metadata": {
        "id": "6p1NE174tfhZ",
        "outputId": "bdfe8290-807d-445d-abdd-f3005608b704",
        "colab": {
          "base_uri": "https://localhost:8080/",
          "height": 300
        }
      },
      "source": [
        "testing(5)"
      ],
      "execution_count": 70,
      "outputs": [
        {
          "output_type": "stream",
          "text": [
            "Prediction:  automobile\n",
            "Original:  automobile\n"
          ],
          "name": "stdout"
        },
        {
          "output_type": "display_data",
          "data": {
            "image/png": "[encoded data removed]",
            "text/plain": [
              "<Figure size 432x288 with 1 Axes>"
            ]
          },
          "metadata": {
            "tags": [],
            "needs_background": "light"
          }
        }
      ]
    },
    {
      "cell_type": "code",
      "metadata": {
        "id": "qjVY-w5VaOUf"
      },
      "source": [
        ""
      ],
      "execution_count": null,
      "outputs": []
    }
  ]
}